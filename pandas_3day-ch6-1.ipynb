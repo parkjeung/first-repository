{
 "cells": [
  {
   "cell_type": "code",
   "execution_count": 9,
   "id": "a464cfc4",
   "metadata": {},
   "outputs": [
    {
     "data": {
      "text/html": [
       "<div>\n",
       "<style scoped>\n",
       "    .dataframe tbody tr th:only-of-type {\n",
       "        vertical-align: middle;\n",
       "    }\n",
       "\n",
       "    .dataframe tbody tr th {\n",
       "        vertical-align: top;\n",
       "    }\n",
       "\n",
       "    .dataframe thead th {\n",
       "        text-align: right;\n",
       "    }\n",
       "</style>\n",
       "<table border=\"1\" class=\"dataframe\">\n",
       "  <thead>\n",
       "    <tr style=\"text-align: right;\">\n",
       "      <th></th>\n",
       "      <th>age</th>\n",
       "      <th>fare</th>\n",
       "    </tr>\n",
       "  </thead>\n",
       "  <tbody>\n",
       "    <tr>\n",
       "      <th>0</th>\n",
       "      <td>22.0</td>\n",
       "      <td>7.2500</td>\n",
       "    </tr>\n",
       "    <tr>\n",
       "      <th>1</th>\n",
       "      <td>38.0</td>\n",
       "      <td>71.2833</td>\n",
       "    </tr>\n",
       "    <tr>\n",
       "      <th>2</th>\n",
       "      <td>26.0</td>\n",
       "      <td>7.9250</td>\n",
       "    </tr>\n",
       "    <tr>\n",
       "      <th>3</th>\n",
       "      <td>35.0</td>\n",
       "      <td>53.1000</td>\n",
       "    </tr>\n",
       "    <tr>\n",
       "      <th>4</th>\n",
       "      <td>35.0</td>\n",
       "      <td>8.0500</td>\n",
       "    </tr>\n",
       "  </tbody>\n",
       "</table>\n",
       "</div>"
      ],
      "text/plain": [
       "    age     fare\n",
       "0  22.0   7.2500\n",
       "1  38.0  71.2833\n",
       "2  26.0   7.9250\n",
       "3  35.0  53.1000\n",
       "4  35.0   8.0500"
      ]
     },
     "execution_count": 9,
     "metadata": {},
     "output_type": "execute_result"
    }
   ],
   "source": [
    "import ssl\n",
    "\n",
    "# SSL 인증서 검증 비활성화 (임시 해결책)\n",
    "ssl._create_default_https_context = ssl._create_unverified_context\n",
    "\n",
    "#라이브 불러오기 \n",
    "import seaborn as sns \n",
    "import pandas as pd\n",
    "\n",
    "#타이타닉 데이터 불러오기 (수동 다운로드)\n",
    "import urllib.request\n",
    "\n",
    "titanic_url = \"https://raw.githubusercontent.com/mwaskom/seaborn-data/master/titanic.csv\"\n",
    "with urllib.request.urlopen(titanic_url, context=ssl._create_unverified_context()) as response:\n",
    "\ttitanic = pd.read_csv(response)\n",
    "df = titanic.loc[:, ['age', 'fare']]\n",
    "\n",
    "df.head()"
   ]
  },
  {
   "cell_type": "code",
   "execution_count": 10,
   "id": "47657962",
   "metadata": {},
   "outputs": [
    {
     "name": "stdout",
     "output_type": "stream",
     "text": [
      "--- age 열 결측치 확인 (원래 빠진 값 수) ---\n",
      "177\n",
      "\n",
      "--- age 열 결측치 처리 후 확인 (모두 0이어야 해!) ---\n",
      "0\n",
      "\n",
      "--- age 열에 10 더한 결과 (age_plus_10) ---\n",
      "    age  age_plus_10\n",
      "0  22.0         32.0\n",
      "1  38.0         48.0\n",
      "2  26.0         36.0\n",
      "3  35.0         45.0\n",
      "4  35.0         45.0\n"
     ]
    }
   ],
   "source": [
    "# df가 정의되어 있는지 확인\n",
    "if 'df' not in locals():\n",
    "    raise NameError(\"변수 'df'가 정의되어 있지 않습니다. 첫 번째 셀을 먼저 실행하세요.\")\n",
    "\n",
    "# 2. age 열의 결측치 확인 및 처리 (오류를 막기 위해 추가)\n",
    "print(\"--- age 열 결측치 확인 (원래 빠진 값 수) ---\")\n",
    "print(df['age'].isnull().sum())\n",
    "\n",
    "# age 열의 평균을 계산\n",
    "mean_age = df['age'].mean()\n",
    "# 결측치를 평균 나이로 채워 넣기\n",
    "df['age'] = df['age'].fillna(mean_age)\n",
    "\n",
    "print(\"\\n--- age 열 결측치 처리 후 확인 (모두 0이어야 해!) ---\")\n",
    "print(df['age'].isnull().sum())\n",
    "\n",
    "# 3. 나이에 10을 더하는 add_10() 함수 만들기\n",
    "def add_10(age_value):\n",
    "    return age_value + 10\n",
    "\n",
    "# 4. age 열에 add_10() 함수 적용\n",
    "df['age_plus_10'] = df['age'].apply(add_10)\n",
    "\n",
    "# 5. 적용 여부 체크\n",
    "print(\"\\n--- age 열에 10 더한 결과 (age_plus_10) ---\")\n",
    "print(df[['age', 'age_plus_10']].head())\n"
   ]
  }
 ],
 "metadata": {
  "kernelspec": {
   "display_name": "Python 3",
   "language": "python",
   "name": "python3"
  },
  "language_info": {
   "codemirror_mode": {
    "name": "ipython",
    "version": 3
   },
   "file_extension": ".py",
   "mimetype": "text/x-python",
   "name": "python",
   "nbconvert_exporter": "python",
   "pygments_lexer": "ipython3",
   "version": "3.13.4"
  }
 },
 "nbformat": 4,
 "nbformat_minor": 5
}
