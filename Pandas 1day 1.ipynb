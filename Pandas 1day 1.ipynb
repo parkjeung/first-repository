{
 "cells": [
  {
   "cell_type": "code",
   "execution_count": 1,
   "id": "a5561d8d",
   "metadata": {},
   "outputs": [
    {
     "name": "stdout",
     "output_type": "stream",
     "text": [
      "Requirement already satisfied: pandas in /Library/Frameworks/Python.framework/Versions/3.13/lib/python3.13/site-packages (2.3.0)\n",
      "Requirement already satisfied: numpy>=1.26.0 in /Library/Frameworks/Python.framework/Versions/3.13/lib/python3.13/site-packages (from pandas) (2.3.0)\n",
      "Requirement already satisfied: python-dateutil>=2.8.2 in /Users/bagjeongmin/Library/Python/3.13/lib/python/site-packages (from pandas) (2.9.0.post0)\n",
      "Requirement already satisfied: pytz>=2020.1 in /Library/Frameworks/Python.framework/Versions/3.13/lib/python3.13/site-packages (from pandas) (2025.2)\n",
      "Requirement already satisfied: tzdata>=2022.7 in /Library/Frameworks/Python.framework/Versions/3.13/lib/python3.13/site-packages (from pandas) (2025.2)\n",
      "Requirement already satisfied: six>=1.5 in /Users/bagjeongmin/Library/Python/3.13/lib/python/site-packages (from python-dateutil>=2.8.2->pandas) (1.17.0)\n",
      "Note: you may need to restart the kernel to use updated packages.\n"
     ]
    },
    {
     "ename": "NameError",
     "evalue": "name 'dict_data' is not defined",
     "output_type": "error",
     "traceback": [
      "\u001b[31m---------------------------------------------------------------------------\u001b[39m",
      "\u001b[31mNameError\u001b[39m                                 Traceback (most recent call last)",
      "\u001b[36mCell\u001b[39m\u001b[36m \u001b[39m\u001b[32mIn[1]\u001b[39m\u001b[32m, line 5\u001b[39m\n\u001b[32m      1\u001b[39m get_ipython().run_line_magic(\u001b[33m'\u001b[39m\u001b[33mpip\u001b[39m\u001b[33m'\u001b[39m, \u001b[33m'\u001b[39m\u001b[33minstall pandas\u001b[39m\u001b[33m'\u001b[39m)\n\u001b[32m      2\u001b[39m \u001b[38;5;28;01mimport\u001b[39;00m\u001b[38;5;250m \u001b[39m\u001b[34;01mpandas\u001b[39;00m\u001b[38;5;250m \u001b[39m\u001b[38;5;28;01mas\u001b[39;00m\u001b[38;5;250m \u001b[39m\u001b[34;01mpd\u001b[39;00m\n\u001b[32m----> \u001b[39m\u001b[32m5\u001b[39m df = pd.DataFrame(\u001b[43mdict_data\u001b[49m)\n\u001b[32m      7\u001b[39m \u001b[38;5;28mprint\u001b[39m(\u001b[38;5;28mtype\u001b[39m(df))\n",
      "\u001b[31mNameError\u001b[39m: name 'dict_data' is not defined"
     ]
    }
   ],
   "source": [
    "%pip install pandas\n",
    "import pandas as pd\n",
    "\n",
    "\n",
    "df = pd.DataFrame(dict_data)\n",
    "\n",
    "print(type(df))"
   ]
  },
  {
   "cell_type": "code",
   "execution_count": 171,
   "id": "8c012e48",
   "metadata": {},
   "outputs": [
    {
     "name": "stdout",
     "output_type": "stream",
     "text": [
      "   c0  c2  c3\n",
      "0   1   4   7\n",
      "1   2   5   6\n",
      "2   2   6   8\n",
      "3   3   7   9\n"
     ]
    }
   ],
   "source": [
    "print(df)"
   ]
  },
  {
   "cell_type": "code",
   "execution_count": null,
   "id": "81f2776d",
   "metadata": {},
   "outputs": [
    {
     "name": "stdout",
     "output_type": "stream",
     "text": [
      "    이름  나이 성별  점수\n",
      "0  김철수  20  남  85\n",
      "1  이영희  19  여  92\n",
      "2  박민수  21  남  78\n",
      "3  최지연  20  여  96\n"
     ]
    }
   ],
   "source": [
    "import pandas as pd   \n",
    "\n",
    "\n",
    "# 학생 데이터\n",
    "dic_data = {\n",
    "    '이름': ['김철수', '이영희', '박민수', '최지연'],\n",
    "    '나이': [20, 19, 21, 20],\n",
    "    '성별': ['남', '여', '남', '여'],\n",
    "    '점수': [85, 92, 78, 96]\n",
    "}\n",
    "\n",
    "# DataFrame 생성\n",
    "df = pd.DataFrame(data)\n",
    "\n",
    "# 출력 확인\n",
    "print(df)\n"
   ]
  },
  {
   "cell_type": "code",
   "execution_count": 172,
   "id": "8123626e",
   "metadata": {},
   "outputs": [
    {
     "name": "stdout",
     "output_type": "stream",
     "text": [
      "2.3.0\n"
     ]
    }
   ],
   "source": [
    "print (pd.__version__)"
   ]
  },
  {
   "cell_type": "code",
   "execution_count": 173,
   "id": "510ce5fa",
   "metadata": {},
   "outputs": [
    {
     "name": "stdout",
     "output_type": "stream",
     "text": [
      "<class 'pandas.core.series.Series'>\n",
      "김철수    85\n",
      "이명희    92\n",
      "박민수    78\n",
      "최지연    96\n",
      "dtype: int64\n"
     ]
    }
   ],
   "source": [
    "import pandas as pd  \n",
    "\n",
    "dic_student = {'김철수': 85 , '이명희': 92 , '박민수' : 78 , '최지연' : 96}\n",
    "\n",
    "sr = pd.Series(dic_student)\n",
    "\n",
    "print(type(sr))\n",
    "print(sr)\n"
   ]
  },
  {
   "cell_type": "code",
   "execution_count": 174,
   "id": "a285b1dd",
   "metadata": {},
   "outputs": [
    {
     "name": "stdout",
     "output_type": "stream",
     "text": [
      "<class 'pandas.core.frame.DataFrame'>\n",
      "RangeIndex: 4 entries, 0 to 3\n",
      "Data columns (total 3 columns):\n",
      " #   Column  Non-Null Count  Dtype\n",
      "---  ------  --------------  -----\n",
      " 0   c0      4 non-null      int64\n",
      " 1   c2      4 non-null      int64\n",
      " 2   c3      4 non-null      int64\n",
      "dtypes: int64(3)\n",
      "memory usage: 228.0 bytes\n"
     ]
    }
   ],
   "source": [
    "df.info()"
   ]
  },
  {
   "cell_type": "code",
   "execution_count": 175,
   "id": "c1751f33",
   "metadata": {},
   "outputs": [
    {
     "name": "stdout",
     "output_type": "stream",
     "text": [
      "df\n",
      "______________________________\n"
     ]
    }
   ],
   "source": [
    "import pandas as pd\n",
    "#  반 친구들 정보 \n",
    "# 이미 data 변수가 존재하므로, 아래 코드는 생략하거나 변수명을 변경해야 합니다.\n",
    "# 예시: data2로 변수명 변경\n",
    "data = {\n",
    "    '이름': ['김철수', '이명희', '박민수', '최지연', '홍길동'],\n",
    "    '점수': [85, 92, 78, 96, 88],\n",
    "    '키': [150.5, 155.0, 148.2, 160.1, 153.7],\n",
    "    '좋아하는 과목': ['수학', '과학', '영어', '미술', '체육']\n",
    "}\n",
    "\n",
    "df = pd.DataFrame(data)\n",
    "\n",
    "print('df')\n",
    "print(\"_\" * 30)"
   ]
  },
  {
   "cell_type": "code",
   "execution_count": 176,
   "id": "fc6e27f6",
   "metadata": {},
   "outputs": [
    {
     "data": {
      "text/html": [
       "<div>\n",
       "<style scoped>\n",
       "    .dataframe tbody tr th:only-of-type {\n",
       "        vertical-align: middle;\n",
       "    }\n",
       "\n",
       "    .dataframe tbody tr th {\n",
       "        vertical-align: top;\n",
       "    }\n",
       "\n",
       "    .dataframe thead th {\n",
       "        text-align: right;\n",
       "    }\n",
       "</style>\n",
       "<table border=\"1\" class=\"dataframe\">\n",
       "  <thead>\n",
       "    <tr style=\"text-align: right;\">\n",
       "      <th></th>\n",
       "      <th>점수</th>\n",
       "      <th>키</th>\n",
       "    </tr>\n",
       "  </thead>\n",
       "  <tbody>\n",
       "    <tr>\n",
       "      <th>count</th>\n",
       "      <td>5.000000</td>\n",
       "      <td>5.00000</td>\n",
       "    </tr>\n",
       "    <tr>\n",
       "      <th>mean</th>\n",
       "      <td>87.800000</td>\n",
       "      <td>153.50000</td>\n",
       "    </tr>\n",
       "    <tr>\n",
       "      <th>std</th>\n",
       "      <td>6.870226</td>\n",
       "      <td>4.55357</td>\n",
       "    </tr>\n",
       "    <tr>\n",
       "      <th>min</th>\n",
       "      <td>78.000000</td>\n",
       "      <td>148.20000</td>\n",
       "    </tr>\n",
       "    <tr>\n",
       "      <th>25%</th>\n",
       "      <td>85.000000</td>\n",
       "      <td>150.50000</td>\n",
       "    </tr>\n",
       "    <tr>\n",
       "      <th>50%</th>\n",
       "      <td>88.000000</td>\n",
       "      <td>153.70000</td>\n",
       "    </tr>\n",
       "    <tr>\n",
       "      <th>75%</th>\n",
       "      <td>92.000000</td>\n",
       "      <td>155.00000</td>\n",
       "    </tr>\n",
       "    <tr>\n",
       "      <th>max</th>\n",
       "      <td>96.000000</td>\n",
       "      <td>160.10000</td>\n",
       "    </tr>\n",
       "  </tbody>\n",
       "</table>\n",
       "</div>"
      ],
      "text/plain": [
       "              점수          키\n",
       "count   5.000000    5.00000\n",
       "mean   87.800000  153.50000\n",
       "std     6.870226    4.55357\n",
       "min    78.000000  148.20000\n",
       "25%    85.000000  150.50000\n",
       "50%    88.000000  153.70000\n",
       "75%    92.000000  155.00000\n",
       "max    96.000000  160.10000"
      ]
     },
     "execution_count": 176,
     "metadata": {},
     "output_type": "execute_result"
    }
   ],
   "source": [
    "df.describe()"
   ]
  },
  {
   "cell_type": "code",
   "execution_count": 177,
   "id": "76fc123f",
   "metadata": {},
   "outputs": [
    {
     "name": "stdout",
     "output_type": "stream",
     "text": [
      "<class 'pandas.core.frame.DataFrame'>\n",
      "RangeIndex: 5 entries, 0 to 4\n",
      "Data columns (total 4 columns):\n",
      " #   Column   Non-Null Count  Dtype  \n",
      "---  ------   --------------  -----  \n",
      " 0   이름       5 non-null      object \n",
      " 1   점수       5 non-null      int64  \n",
      " 2   키        5 non-null      float64\n",
      " 3   좋아하는 과목  5 non-null      object \n",
      "dtypes: float64(1), int64(1), object(2)\n",
      "memory usage: 292.0+ bytes\n"
     ]
    }
   ],
   "source": [
    "df.info()"
   ]
  },
  {
   "cell_type": "code",
   "execution_count": 178,
   "id": "e407f017",
   "metadata": {},
   "outputs": [
    {
     "name": "stdout",
     "output_type": "stream",
     "text": [
      "(5, 4)\n"
     ]
    }
   ],
   "source": [
    "print(df.shape)"
   ]
  },
  {
   "cell_type": "code",
   "execution_count": 179,
   "id": "7789c6c8",
   "metadata": {},
   "outputs": [
    {
     "name": "stdout",
     "output_type": "stream",
     "text": [
      "이름           이명희\n",
      "점수            92\n",
      "키          155.0\n",
      "좋아하는 과목       과학\n",
      "Name: 1, dtype: object\n"
     ]
    }
   ],
   "source": [
    "print(df.loc[1])"
   ]
  },
  {
   "cell_type": "code",
   "execution_count": 180,
   "id": "c25fc0f4",
   "metadata": {},
   "outputs": [
    {
     "name": "stdout",
     "output_type": "stream",
     "text": [
      "    이름  점수      키 좋아하는 과목\n",
      "1  이명희  92  155.0      과학\n"
     ]
    }
   ],
   "source": [
    "print(df[df['이름'] == '이명희'])"
   ]
  },
  {
   "cell_type": "code",
   "execution_count": 181,
   "id": "50ce099e",
   "metadata": {},
   "outputs": [
    {
     "name": "stdout",
     "output_type": "stream",
     "text": [
      "       키 좋아하는 과목\n",
      "1  155.0      과학\n",
      "3  160.1      미술\n"
     ]
    }
   ],
   "source": [
    "#\n",
    "print(df.iloc[[1, 3], [2, 3]])"
   ]
  },
  {
   "cell_type": "code",
   "execution_count": 182,
   "id": "a62e71eb",
   "metadata": {},
   "outputs": [
    {
     "name": "stdout",
     "output_type": "stream",
     "text": [
      "    이름  점수      키 좋아하는 과목\n",
      "0  김철수  85  150.5      수학\n",
      "1  이명희  92  155.0      과학\n",
      "3  최지연  96  160.1      미술\n",
      "4  홍길동  88  153.7      체육\n"
     ]
    }
   ],
   "source": [
    "print(df[df['키'] >= 150])"
   ]
  },
  {
   "cell_type": "code",
   "execution_count": 183,
   "id": "089f9547",
   "metadata": {},
   "outputs": [
    {
     "name": "stdout",
     "output_type": "stream",
     "text": [
      "정민호 학생이 추가된 DataFrame:\n",
      "    이름  점수      키 좋아하는 과목\n",
      "0  김철수  85  150.5      수학\n",
      "1  이명희  92  155.0      과학\n",
      "2  박민수  78  148.2      영어\n",
      "3  최지연  96  160.1      미술\n",
      "4  홍길동  88  153.7      체육\n",
      "5  정민호  88  170.0      음악\n",
      "------------------------------\n"
     ]
    }
   ],
   "source": [
    "new_student = pd.Series({\n",
    "    '이름': '정민호',\n",
    "    '점수': 88,\n",
    "    '키': 170.0, # 임의의 키\n",
    "    '좋아하는 과목': '음악' # 임의의 과목\n",
    "})\n",
    "\n",
    "df = pd.concat([df, new_student.to_frame().T], ignore_index=True)\n",
    "\n",
    "print(\"정민호 학생이 추가된 DataFrame:\")\n",
    "print(df)\n",
    "print(\"-\" * 30)"
   ]
  },
  {
   "cell_type": "code",
   "execution_count": null,
   "id": "1ac42ad0",
   "metadata": {},
   "outputs": [
    {
     "name": "stdout",
     "output_type": "stream",
     "text": [
      "모든 학생의 점수에 3점이 더해진 DataFrame:\n",
      "    이름  점수      키 좋아하는 과목\n",
      "0  김철수  88  150.5      수학\n",
      "1  이명희  95  155.0      과학\n",
      "2  박민수  81  148.2      영어\n",
      "3  최지연  99  160.1      미술\n",
      "4  홍길동  91  153.7      체육\n",
      "5  정민호  91  170.0      음악\n",
      "------------------------------\n"
     ]
    }
   ],
   "source": [
    "df['점수'] = df['점수'] + 3\n",
    "#  df['점수'] += 3  \n",
    "\n",
    "print(\"모든 학생의 점수에 3점이 더해진 DataFrame:\")\n",
    "print(df)\n",
    "print(\"-\" * 30)"
   ]
  },
  {
   "cell_type": "code",
   "execution_count": 185,
   "id": "2e73b9be",
   "metadata": {},
   "outputs": [],
   "source": [
    "df ['나이'] = [20,22,14,25,12,22]"
   ]
  },
  {
   "cell_type": "code",
   "execution_count": 186,
   "id": "3ea78cd5",
   "metadata": {},
   "outputs": [],
   "source": [
    "df['성별'] = ['남', '여', '남', '여', '남', '남']\n"
   ]
  },
  {
   "cell_type": "code",
   "execution_count": 189,
   "id": "01deae00",
   "metadata": {},
   "outputs": [
    {
     "name": "stdout",
     "output_type": "stream",
     "text": [
      "등급 열이 추가된 DataFrame:\n",
      "    이름  점수      키 좋아하는 과목  나이 성별 등급\n",
      "0  김철수  88  150.5      수학  20  남  B\n",
      "1  이명희  95  155.0      과학  22  여  A\n",
      "2  박민수  81  148.2      영어  14  남  B\n",
      "3  최지연  99  160.1      미술  25  여  A\n",
      "4  홍길동  91  153.7      체육  12  남  A\n",
      "5  정민호  91  170.0      음악  22  남  A\n"
     ]
    }
   ],
   "source": [
    "def sh_grade(score):\n",
    "    if score >= 90:\n",
    "        return 'A'\n",
    "    elif score >= 80:\n",
    "        return 'B'\n",
    "    else:  # 80 미만\n",
    "        return 'C'\n",
    "\n",
    "df['등급'] = df['점수'].astype(int).apply(sh_grade)\n",
    "\n",
    "print(\"등급 열이 추가된 DataFrame:\")\n",
    "print(df)\n",
    " "
   ]
  }
 ],
 "metadata": {
  "kernelspec": {
   "display_name": "Python 3",
   "language": "python",
   "name": "python3"
  },
  "language_info": {
   "codemirror_mode": {
    "name": "ipython",
    "version": 3
   },
   "file_extension": ".py",
   "mimetype": "text/x-python",
   "name": "python",
   "nbconvert_exporter": "python",
   "pygments_lexer": "ipython3",
   "version": "3.13.4"
  }
 },
 "nbformat": 4,
 "nbformat_minor": 5
}
