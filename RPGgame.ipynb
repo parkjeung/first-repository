{
 "cells": [
  {
   "cell_type": "code",
   "execution_count": null,
   "id": "634879de",
   "metadata": {},
   "outputs": [],
   "source": [
    "import random # 공격 시 랜덤 데미지를 위해 random 모듈\n",
    "class Character:\n",
    "    # 생성자: 캐릭터가 처음 만들어질 때 이름, 레벨, 체력, 공격력, 방어력을 설정\n",
    "    def __init__(self, name, level, health, attack_power, defense_power):\n",
    "        self.name = name           # 캐릭터의 이름\n",
    "        self.level = level         # 캐릭터의 레벨\n",
    "        self.health = health       # 캐릭터의 현재 체력\n",
    "        self.attack_power = attack_power # 캐릭터의 공격력\n",
    "        self.defense_power = defense_power # 캐릭터의 방어력\n",
    "        print(f\"[{self.name}] 레벨 {self.level}, 체력 {self.health}, 공격력 {self.attack_power}, 방어력 {self.defense_power}로 생성되었습니다.\")\n",
    "\n",
    "    # is_alive 메서드: 캐릭터가 살아있는지 확인해주는 메서드\n",
    "    # 체력이 0보다 크면 True(살아있음), 아니면 False(죽었음)\n",
    "    def is_alive(self):\n",
    "        return self.health > 0\n",
    "\n",
    "    # take_damage 메서드: 공격을 받아서 체력이 줄어드는 행동\n",
    "    # 'damage_received': 받은 데미지 양\n",
    "    def take_damage(self, damage_received):\n",
    "        # 방어력이 받은 데미지보다 크면 체력이 줄지 X\n",
    "        if self.defense_power >= damage_received:\n",
    "            damage_dealt = 0 # 데미지를 받지 않음\n",
    "            print(f\"[{self.name}] 방어 성공! 데미지 {damage_dealt}를 받았습니다. 현재 체력: {self.health}\")\n",
    "        else:\n",
    "            # (받은 데미지 - 본인의 방어력)만큼 체력이 줄어\n",
    "            damage_dealt = damage_received - self.defense_power\n",
    "            self.health -= damage_dealt\n",
    "            # 체력이 0보다 작아지면 0으로 만들어줘 (음수 체력 방지).\n",
    "            if self.health < 0:\n",
    "                self.health = 0\n",
    "            print(f\"[{self.name}] 데미지 {damage_dealt}를 받았습니다. 현재 체력: {self.health}\")\n",
    "\n",
    "    # attack_target 메서드: 타겟에게 데미지를 입히는 행동\n",
    "    # 'target': 공격할 대상 캐릭터 객체\n",
    "    def attack_target(self, target):\n",
    "        # 데미지는 1부터 본인 공격력 사이의 랜덤한 정수\n",
    "        damage = random.randint(1, self.attack_power)\n",
    "        print(f\"[{self.name}]이(가) [{target.name}]에게 {damage}의 데미지를 입혔습니다.\")\n",
    "        # 타겟의 take_damage 메서드를 호출해서 데미지를 \n",
    "        target.take_damage(damage)\n",
    "\n"
   ]
  }
 ],
 "metadata": {
  "kernelspec": {
   "display_name": "Python 3 (ipykernel)",
   "language": "python",
   "name": "python3"
  },
  "language_info": {
   "codemirror_mode": {
    "name": "ipython",
    "version": 3
   },
   "file_extension": ".py",
   "mimetype": "text/x-python",
   "name": "python",
   "nbconvert_exporter": "python",
   "pygments_lexer": "ipython3",
   "version": "3.9.7"
  }
 },
 "nbformat": 4,
 "nbformat_minor": 5
}
